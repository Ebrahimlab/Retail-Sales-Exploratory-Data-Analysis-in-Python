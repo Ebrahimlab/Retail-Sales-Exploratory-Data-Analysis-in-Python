{
 "cells": [
  {
   "cell_type": "markdown",
   "id": "b7aa19cb",
   "metadata": {
    "_cell_guid": "65349034-842c-4d02-93dd-c803f8c79e3d",
    "_uuid": "732f522e-33ac-480f-bd94-8d2ea61f1cc5",
    "papermill": {
     "duration": 0.01045,
     "end_time": "2024-05-28T10:17:26.859244",
     "exception": false,
     "start_time": "2024-05-28T10:17:26.848794",
     "status": "completed"
    },
    "tags": []
   },
   "source": [
    "# Retail Sales EDA in Python\n",
    "\n",
    "This project uses the Retail Sales Dataset, a fictional but realistic collection of sales transactions.\n",
    "The dataset contains important retail attributes:\n",
    "Transaction ID, Date, Customer ID, Gender, Age, Product Category, Quantity, Price per Unit, and Total Amount.\n",
    "\n",
    "In this analysis, I focus on answering three key questions:\n",
    "\n",
    "1. Customer Demographics & Spending — How does Age and Gender relate to total purchases?\n",
    "\n",
    "2. Product Category Preferences — What’s the top product category for each age and gender group?\n",
    "\n",
    "3. Time-based Spending Trends — How does daily and monthly spending vary across categories, customers, and gender?"
   ]
  },
  {
   "cell_type": "markdown",
   "id": "dd1f1ce6",
   "metadata": {},
   "source": [
    "# Import Libraries and Load Data"
   ]
  },
  {
   "cell_type": "code",
   "execution_count": 7,
   "id": "71e5a009",
   "metadata": {
    "_cell_guid": "7127c3ad-c998-4f59-8e45-c31263ed23a3",
    "_uuid": "af008920-7e91-4c51-a51f-45dfe8f831ff",
    "execution": {
     "iopub.execute_input": "2024-05-28T10:17:26.881475Z",
     "iopub.status.busy": "2024-05-28T10:17:26.880928Z",
     "iopub.status.idle": "2024-05-28T10:17:29.595831Z",
     "shell.execute_reply": "2024-05-28T10:17:29.594532Z"
    },
    "jupyter": {
     "outputs_hidden": false
    },
    "papermill": {
     "duration": 2.729654,
     "end_time": "2024-05-28T10:17:29.598864",
     "exception": false,
     "start_time": "2024-05-28T10:17:26.869210",
     "status": "completed"
    },
    "tags": []
   },
   "outputs": [
    {
     "data": {
      "text/html": [
       "<div>\n",
       "<style scoped>\n",
       "    .dataframe tbody tr th:only-of-type {\n",
       "        vertical-align: middle;\n",
       "    }\n",
       "\n",
       "    .dataframe tbody tr th {\n",
       "        vertical-align: top;\n",
       "    }\n",
       "\n",
       "    .dataframe thead th {\n",
       "        text-align: right;\n",
       "    }\n",
       "</style>\n",
       "<table border=\"1\" class=\"dataframe\">\n",
       "  <thead>\n",
       "    <tr style=\"text-align: right;\">\n",
       "      <th></th>\n",
       "      <th>Transaction ID</th>\n",
       "      <th>Date</th>\n",
       "      <th>Customer ID</th>\n",
       "      <th>Gender</th>\n",
       "      <th>Age</th>\n",
       "      <th>Product Category</th>\n",
       "      <th>Quantity</th>\n",
       "      <th>Price per Unit</th>\n",
       "      <th>Total Amount</th>\n",
       "    </tr>\n",
       "  </thead>\n",
       "  <tbody>\n",
       "    <tr>\n",
       "      <th>0</th>\n",
       "      <td>1</td>\n",
       "      <td>2023-11-24</td>\n",
       "      <td>CUST001</td>\n",
       "      <td>Male</td>\n",
       "      <td>34</td>\n",
       "      <td>Beauty</td>\n",
       "      <td>3</td>\n",
       "      <td>50</td>\n",
       "      <td>150</td>\n",
       "    </tr>\n",
       "    <tr>\n",
       "      <th>1</th>\n",
       "      <td>2</td>\n",
       "      <td>2023-02-27</td>\n",
       "      <td>CUST002</td>\n",
       "      <td>Female</td>\n",
       "      <td>26</td>\n",
       "      <td>Clothing</td>\n",
       "      <td>2</td>\n",
       "      <td>500</td>\n",
       "      <td>1000</td>\n",
       "    </tr>\n",
       "    <tr>\n",
       "      <th>2</th>\n",
       "      <td>3</td>\n",
       "      <td>2023-01-13</td>\n",
       "      <td>CUST003</td>\n",
       "      <td>Male</td>\n",
       "      <td>50</td>\n",
       "      <td>Electronics</td>\n",
       "      <td>1</td>\n",
       "      <td>30</td>\n",
       "      <td>30</td>\n",
       "    </tr>\n",
       "    <tr>\n",
       "      <th>3</th>\n",
       "      <td>4</td>\n",
       "      <td>2023-05-21</td>\n",
       "      <td>CUST004</td>\n",
       "      <td>Male</td>\n",
       "      <td>37</td>\n",
       "      <td>Clothing</td>\n",
       "      <td>1</td>\n",
       "      <td>500</td>\n",
       "      <td>500</td>\n",
       "    </tr>\n",
       "    <tr>\n",
       "      <th>4</th>\n",
       "      <td>5</td>\n",
       "      <td>2023-05-06</td>\n",
       "      <td>CUST005</td>\n",
       "      <td>Male</td>\n",
       "      <td>30</td>\n",
       "      <td>Beauty</td>\n",
       "      <td>2</td>\n",
       "      <td>50</td>\n",
       "      <td>100</td>\n",
       "    </tr>\n",
       "    <tr>\n",
       "      <th>5</th>\n",
       "      <td>6</td>\n",
       "      <td>2023-04-25</td>\n",
       "      <td>CUST006</td>\n",
       "      <td>Female</td>\n",
       "      <td>45</td>\n",
       "      <td>Beauty</td>\n",
       "      <td>1</td>\n",
       "      <td>30</td>\n",
       "      <td>30</td>\n",
       "    </tr>\n",
       "    <tr>\n",
       "      <th>6</th>\n",
       "      <td>7</td>\n",
       "      <td>2023-03-13</td>\n",
       "      <td>CUST007</td>\n",
       "      <td>Male</td>\n",
       "      <td>46</td>\n",
       "      <td>Clothing</td>\n",
       "      <td>2</td>\n",
       "      <td>25</td>\n",
       "      <td>50</td>\n",
       "    </tr>\n",
       "    <tr>\n",
       "      <th>7</th>\n",
       "      <td>8</td>\n",
       "      <td>2023-02-22</td>\n",
       "      <td>CUST008</td>\n",
       "      <td>Male</td>\n",
       "      <td>30</td>\n",
       "      <td>Electronics</td>\n",
       "      <td>4</td>\n",
       "      <td>25</td>\n",
       "      <td>100</td>\n",
       "    </tr>\n",
       "    <tr>\n",
       "      <th>8</th>\n",
       "      <td>9</td>\n",
       "      <td>2023-12-13</td>\n",
       "      <td>CUST009</td>\n",
       "      <td>Male</td>\n",
       "      <td>63</td>\n",
       "      <td>Electronics</td>\n",
       "      <td>2</td>\n",
       "      <td>300</td>\n",
       "      <td>600</td>\n",
       "    </tr>\n",
       "    <tr>\n",
       "      <th>9</th>\n",
       "      <td>10</td>\n",
       "      <td>2023-10-07</td>\n",
       "      <td>CUST010</td>\n",
       "      <td>Female</td>\n",
       "      <td>52</td>\n",
       "      <td>Clothing</td>\n",
       "      <td>4</td>\n",
       "      <td>50</td>\n",
       "      <td>200</td>\n",
       "    </tr>\n",
       "  </tbody>\n",
       "</table>\n",
       "</div>"
      ],
      "text/plain": [
       "   Transaction ID        Date Customer ID  Gender  Age Product Category  \\\n",
       "0               1  2023-11-24     CUST001    Male   34           Beauty   \n",
       "1               2  2023-02-27     CUST002  Female   26         Clothing   \n",
       "2               3  2023-01-13     CUST003    Male   50      Electronics   \n",
       "3               4  2023-05-21     CUST004    Male   37         Clothing   \n",
       "4               5  2023-05-06     CUST005    Male   30           Beauty   \n",
       "5               6  2023-04-25     CUST006  Female   45           Beauty   \n",
       "6               7  2023-03-13     CUST007    Male   46         Clothing   \n",
       "7               8  2023-02-22     CUST008    Male   30      Electronics   \n",
       "8               9  2023-12-13     CUST009    Male   63      Electronics   \n",
       "9              10  2023-10-07     CUST010  Female   52         Clothing   \n",
       "\n",
       "   Quantity  Price per Unit  Total Amount  \n",
       "0         3              50           150  \n",
       "1         2             500          1000  \n",
       "2         1              30            30  \n",
       "3         1             500           500  \n",
       "4         2              50           100  \n",
       "5         1              30            30  \n",
       "6         2              25            50  \n",
       "7         4              25           100  \n",
       "8         2             300           600  \n",
       "9         4              50           200  "
      ]
     },
     "execution_count": 7,
     "metadata": {},
     "output_type": "execute_result"
    }
   ],
   "source": [
    "import numpy as np\n",
    "import pandas as pd\n",
    "import matplotlib.pyplot as plt\n",
    "import seaborn as sns\n",
    "\n",
    "# Load dataset\n",
    "data = pd.read_csv('C:/Users/mebrh/OneDrive/Desktop/Retail-Sales-EDA-in-Python-main/retail_sales_dataset.csv')\n",
    "\n",
    "# Keep a copy for analysis\n",
    "df = data.copy()\n",
    "df.head(10)\n"
   ]
  },
  {
   "cell_type": "markdown",
   "id": "07ae7e8c",
   "metadata": {
    "_cell_guid": "4c83452c-5752-49cb-a1c7-2f579aa7a515",
    "_uuid": "1d01df73-283d-4a12-8206-37030dee97ef",
    "papermill": {
     "duration": 0.010147,
     "end_time": "2024-05-28T10:17:29.705109",
     "exception": false,
     "start_time": "2024-05-28T10:17:29.694962",
     "status": "completed"
    },
    "tags": []
   },
   "source": [
    "# Data Cleaning\n",
    "Since this dataset contains no missing values, I will verify the data quality by examining unique values in each column and detecting any potential outliers.# Data Cleaning"
   ]
  },
  {
   "cell_type": "code",
   "execution_count": 8,
   "id": "6c139720",
   "metadata": {
    "_cell_guid": "c909005f-e147-4758-b5a0-cfc1cfb089f8",
    "_uuid": "f8144f6f-976d-4015-af81-fd867eb97544",
    "execution": {
     "iopub.execute_input": "2024-05-28T10:17:29.729861Z",
     "iopub.status.busy": "2024-05-28T10:17:29.729489Z",
     "iopub.status.idle": "2024-05-28T10:17:29.757480Z",
     "shell.execute_reply": "2024-05-28T10:17:29.756001Z"
    },
    "jupyter": {
     "outputs_hidden": false
    },
    "papermill": {
     "duration": 0.043418,
     "end_time": "2024-05-28T10:17:29.760341",
     "exception": false,
     "start_time": "2024-05-28T10:17:29.716923",
     "status": "completed"
    },
    "tags": []
   },
   "outputs": [
    {
     "name": "stdout",
     "output_type": "stream",
     "text": [
      "<class 'pandas.core.frame.DataFrame'>\n",
      "RangeIndex: 1000 entries, 0 to 999\n",
      "Data columns (total 9 columns):\n",
      " #   Column            Non-Null Count  Dtype \n",
      "---  ------            --------------  ----- \n",
      " 0   Transaction ID    1000 non-null   int64 \n",
      " 1   Date              1000 non-null   object\n",
      " 2   Customer ID       1000 non-null   object\n",
      " 3   Gender            1000 non-null   object\n",
      " 4   Age               1000 non-null   int64 \n",
      " 5   Product Category  1000 non-null   object\n",
      " 6   Quantity          1000 non-null   int64 \n",
      " 7   Price per Unit    1000 non-null   int64 \n",
      " 8   Total Amount      1000 non-null   int64 \n",
      "dtypes: int64(5), object(4)\n",
      "memory usage: 70.4+ KB\n"
     ]
    }
   ],
   "source": [
    "df.info()  # 1000 rows and 9 columns"
   ]
  },
  {
   "cell_type": "code",
   "execution_count": 9,
   "id": "218de526",
   "metadata": {
    "_cell_guid": "e83a2306-ea30-4929-a6b0-d52001bce675",
    "_uuid": "03dbdae1-f290-4c13-a06c-2408e0c60fca",
    "execution": {
     "iopub.execute_input": "2024-05-28T10:17:29.784070Z",
     "iopub.status.busy": "2024-05-28T10:17:29.783645Z",
     "iopub.status.idle": "2024-05-28T10:17:29.798740Z",
     "shell.execute_reply": "2024-05-28T10:17:29.797004Z"
    },
    "jupyter": {
     "outputs_hidden": false
    },
    "papermill": {
     "duration": 0.03118,
     "end_time": "2024-05-28T10:17:29.802333",
     "exception": false,
     "start_time": "2024-05-28T10:17:29.771153",
     "status": "completed"
    },
    "tags": []
   },
   "outputs": [],
   "source": [
    "# Date column is an object. Convert to datetime dtype to enable Date specific analyses\n",
    "df['Date'] = pd.to_datetime(df['Date'])"
   ]
  },
  {
   "cell_type": "code",
   "execution_count": 10,
   "id": "0b4ce7cd",
   "metadata": {
    "_cell_guid": "792367b2-d46e-4db1-bc10-e7d31365d636",
    "_uuid": "de9956ae-3c41-48a0-91bc-8edca28be6ae",
    "execution": {
     "iopub.execute_input": "2024-05-28T10:17:29.826885Z",
     "iopub.status.busy": "2024-05-28T10:17:29.826416Z",
     "iopub.status.idle": "2024-05-28T10:17:29.841014Z",
     "shell.execute_reply": "2024-05-28T10:17:29.839475Z"
    },
    "jupyter": {
     "outputs_hidden": false
    },
    "papermill": {
     "duration": 0.031014,
     "end_time": "2024-05-28T10:17:29.843888",
     "exception": false,
     "start_time": "2024-05-28T10:17:29.812874",
     "status": "completed"
    },
    "tags": []
   },
   "outputs": [
    {
     "name": "stdout",
     "output_type": "stream",
     "text": [
      "<class 'pandas.core.frame.DataFrame'>\n",
      "RangeIndex: 1000 entries, 0 to 999\n",
      "Data columns (total 9 columns):\n",
      " #   Column            Non-Null Count  Dtype         \n",
      "---  ------            --------------  -----         \n",
      " 0   Transaction ID    1000 non-null   int64         \n",
      " 1   Date              1000 non-null   datetime64[ns]\n",
      " 2   Customer ID       1000 non-null   object        \n",
      " 3   Gender            1000 non-null   object        \n",
      " 4   Age               1000 non-null   int64         \n",
      " 5   Product Category  1000 non-null   object        \n",
      " 6   Quantity          1000 non-null   int64         \n",
      " 7   Price per Unit    1000 non-null   int64         \n",
      " 8   Total Amount      1000 non-null   int64         \n",
      "dtypes: datetime64[ns](1), int64(5), object(3)\n",
      "memory usage: 70.4+ KB\n"
     ]
    }
   ],
   "source": [
    "df.info()"
   ]
  },
  {
   "cell_type": "code",
   "execution_count": 11,
   "id": "50483bf3",
   "metadata": {
    "_cell_guid": "d999210b-da62-459f-b04d-d99030eaf8a6",
    "_uuid": "13af1b3d-f9c2-4ff5-bccb-02524a0f1115",
    "execution": {
     "iopub.execute_input": "2024-05-28T10:17:29.867511Z",
     "iopub.status.busy": "2024-05-28T10:17:29.867101Z",
     "iopub.status.idle": "2024-05-28T10:17:29.875880Z",
     "shell.execute_reply": "2024-05-28T10:17:29.875059Z"
    },
    "jupyter": {
     "outputs_hidden": false
    },
    "papermill": {
     "duration": 0.023184,
     "end_time": "2024-05-28T10:17:29.877913",
     "exception": false,
     "start_time": "2024-05-28T10:17:29.854729",
     "status": "completed"
    },
    "tags": []
   },
   "outputs": [
    {
     "data": {
      "text/plain": [
       "Transaction ID      0\n",
       "Date                0\n",
       "Customer ID         0\n",
       "Gender              0\n",
       "Age                 0\n",
       "Product Category    0\n",
       "Quantity            0\n",
       "Price per Unit      0\n",
       "Total Amount        0\n",
       "dtype: int64"
      ]
     },
     "execution_count": 11,
     "metadata": {},
     "output_type": "execute_result"
    }
   ],
   "source": [
    "# Check for missing values\n",
    "df.isnull().sum()  # There are No missing values"
   ]
  },
  {
   "cell_type": "code",
   "execution_count": 12,
   "id": "2a9ea0c2",
   "metadata": {
    "_cell_guid": "0891f4bd-4f91-4197-ab26-7d447fc79ddd",
    "_uuid": "6be18a97-f4f0-482e-ac3e-29ce86499b61",
    "execution": {
     "iopub.execute_input": "2024-05-28T10:17:29.901042Z",
     "iopub.status.busy": "2024-05-28T10:17:29.900641Z",
     "iopub.status.idle": "2024-05-28T10:17:29.913029Z",
     "shell.execute_reply": "2024-05-28T10:17:29.911831Z"
    },
    "jupyter": {
     "outputs_hidden": false
    },
    "papermill": {
     "duration": 0.027242,
     "end_time": "2024-05-28T10:17:29.915792",
     "exception": false,
     "start_time": "2024-05-28T10:17:29.888550",
     "status": "completed"
    },
    "tags": []
   },
   "outputs": [
    {
     "data": {
      "text/plain": [
       "Transaction ID      1000\n",
       "Date                 345\n",
       "Customer ID         1000\n",
       "Gender                 2\n",
       "Age                   47\n",
       "Product Category       3\n",
       "Quantity               4\n",
       "Price per Unit         5\n",
       "Total Amount          18\n",
       "dtype: int64"
      ]
     },
     "execution_count": 12,
     "metadata": {},
     "output_type": "execute_result"
    }
   ],
   "source": [
    "# Check for unique values in all columns\n",
    "df.nunique()"
   ]
  },
  {
   "cell_type": "markdown",
   "id": "2d9bd033",
   "metadata": {
    "_cell_guid": "388b9efb-9c2b-4daa-90c9-2057126dd31b",
    "_uuid": "e8e15bc8-87f0-4765-b1fc-839a92c711f0",
    "papermill": {
     "duration": 0.010916,
     "end_time": "2024-05-28T10:17:29.937642",
     "exception": false,
     "start_time": "2024-05-28T10:17:29.926726",
     "status": "completed"
    },
    "tags": []
   },
   "source": [
    "The output reveals:\n",
    "\n",
    "* 1000 unique Transaction IDs and 1000 distinct Customer IDs.\n",
    "\n",
    "* Only 345 unique dates exist, indicating multiple customers made purchases on the same days.\n",
    "\n",
    "* Product categories are limited to Beauty, Clothing, and Electronics."
   ]
  },
  {
   "cell_type": "code",
   "execution_count": 13,
   "id": "5bfd2751",
   "metadata": {
    "_cell_guid": "56d30051-fce6-41a7-affd-b4b1ebdd809b",
    "_uuid": "4d5b958f-2659-4aef-9509-fdb86e94ecd4",
    "execution": {
     "iopub.execute_input": "2024-05-28T10:17:29.963523Z",
     "iopub.status.busy": "2024-05-28T10:17:29.962546Z",
     "iopub.status.idle": "2024-05-28T10:17:30.000185Z",
     "shell.execute_reply": "2024-05-28T10:17:29.998782Z"
    },
    "jupyter": {
     "outputs_hidden": false
    },
    "papermill": {
     "duration": 0.0534,
     "end_time": "2024-05-28T10:17:30.002846",
     "exception": false,
     "start_time": "2024-05-28T10:17:29.949446",
     "status": "completed"
    },
    "tags": []
   },
   "outputs": [
    {
     "data": {
      "text/html": [
       "<div>\n",
       "<style scoped>\n",
       "    .dataframe tbody tr th:only-of-type {\n",
       "        vertical-align: middle;\n",
       "    }\n",
       "\n",
       "    .dataframe tbody tr th {\n",
       "        vertical-align: top;\n",
       "    }\n",
       "\n",
       "    .dataframe thead th {\n",
       "        text-align: right;\n",
       "    }\n",
       "</style>\n",
       "<table border=\"1\" class=\"dataframe\">\n",
       "  <thead>\n",
       "    <tr style=\"text-align: right;\">\n",
       "      <th></th>\n",
       "      <th>Transaction ID</th>\n",
       "      <th>Date</th>\n",
       "      <th>Age</th>\n",
       "      <th>Quantity</th>\n",
       "      <th>Price per Unit</th>\n",
       "      <th>Total Amount</th>\n",
       "    </tr>\n",
       "  </thead>\n",
       "  <tbody>\n",
       "    <tr>\n",
       "      <th>count</th>\n",
       "      <td>1000.000000</td>\n",
       "      <td>1000</td>\n",
       "      <td>1000.00000</td>\n",
       "      <td>1000.000000</td>\n",
       "      <td>1000.000000</td>\n",
       "      <td>1000.000000</td>\n",
       "    </tr>\n",
       "    <tr>\n",
       "      <th>mean</th>\n",
       "      <td>500.500000</td>\n",
       "      <td>2023-07-03 00:25:55.200000256</td>\n",
       "      <td>41.39200</td>\n",
       "      <td>2.514000</td>\n",
       "      <td>179.890000</td>\n",
       "      <td>456.000000</td>\n",
       "    </tr>\n",
       "    <tr>\n",
       "      <th>min</th>\n",
       "      <td>1.000000</td>\n",
       "      <td>2023-01-01 00:00:00</td>\n",
       "      <td>18.00000</td>\n",
       "      <td>1.000000</td>\n",
       "      <td>25.000000</td>\n",
       "      <td>25.000000</td>\n",
       "    </tr>\n",
       "    <tr>\n",
       "      <th>25%</th>\n",
       "      <td>250.750000</td>\n",
       "      <td>2023-04-08 00:00:00</td>\n",
       "      <td>29.00000</td>\n",
       "      <td>1.000000</td>\n",
       "      <td>30.000000</td>\n",
       "      <td>60.000000</td>\n",
       "    </tr>\n",
       "    <tr>\n",
       "      <th>50%</th>\n",
       "      <td>500.500000</td>\n",
       "      <td>2023-06-29 12:00:00</td>\n",
       "      <td>42.00000</td>\n",
       "      <td>3.000000</td>\n",
       "      <td>50.000000</td>\n",
       "      <td>135.000000</td>\n",
       "    </tr>\n",
       "    <tr>\n",
       "      <th>75%</th>\n",
       "      <td>750.250000</td>\n",
       "      <td>2023-10-04 00:00:00</td>\n",
       "      <td>53.00000</td>\n",
       "      <td>4.000000</td>\n",
       "      <td>300.000000</td>\n",
       "      <td>900.000000</td>\n",
       "    </tr>\n",
       "    <tr>\n",
       "      <th>max</th>\n",
       "      <td>1000.000000</td>\n",
       "      <td>2024-01-01 00:00:00</td>\n",
       "      <td>64.00000</td>\n",
       "      <td>4.000000</td>\n",
       "      <td>500.000000</td>\n",
       "      <td>2000.000000</td>\n",
       "    </tr>\n",
       "    <tr>\n",
       "      <th>std</th>\n",
       "      <td>288.819436</td>\n",
       "      <td>NaN</td>\n",
       "      <td>13.68143</td>\n",
       "      <td>1.132734</td>\n",
       "      <td>189.681356</td>\n",
       "      <td>559.997632</td>\n",
       "    </tr>\n",
       "  </tbody>\n",
       "</table>\n",
       "</div>"
      ],
      "text/plain": [
       "       Transaction ID                           Date         Age     Quantity  \\\n",
       "count     1000.000000                           1000  1000.00000  1000.000000   \n",
       "mean       500.500000  2023-07-03 00:25:55.200000256    41.39200     2.514000   \n",
       "min          1.000000            2023-01-01 00:00:00    18.00000     1.000000   \n",
       "25%        250.750000            2023-04-08 00:00:00    29.00000     1.000000   \n",
       "50%        500.500000            2023-06-29 12:00:00    42.00000     3.000000   \n",
       "75%        750.250000            2023-10-04 00:00:00    53.00000     4.000000   \n",
       "max       1000.000000            2024-01-01 00:00:00    64.00000     4.000000   \n",
       "std        288.819436                            NaN    13.68143     1.132734   \n",
       "\n",
       "       Price per Unit  Total Amount  \n",
       "count     1000.000000   1000.000000  \n",
       "mean       179.890000    456.000000  \n",
       "min         25.000000     25.000000  \n",
       "25%         30.000000     60.000000  \n",
       "50%         50.000000    135.000000  \n",
       "75%        300.000000    900.000000  \n",
       "max        500.000000   2000.000000  \n",
       "std        189.681356    559.997632  "
      ]
     },
     "execution_count": 13,
     "metadata": {},
     "output_type": "execute_result"
    }
   ],
   "source": [
    "df.describe() # descriptive statistics"
   ]
  },
  {
   "cell_type": "markdown",
   "id": "402d00cb",
   "metadata": {
    "_cell_guid": "03a6654a-d91f-4b9c-afdf-b3c42f369e78",
    "_uuid": "dda61e67-d3ea-4d78-a672-88568a16b8b8",
    "papermill": {
     "duration": 0.011626,
     "end_time": "2024-05-28T10:17:30.025740",
     "exception": false,
     "start_time": "2024-05-28T10:17:30.014114",
     "status": "completed"
    },
    "tags": []
   },
   "source": [
    "# Analysis 1 — Spending by Age & Gender\n",
    "\n",
    "We want to see how spending patterns differ across age groups and genders."
   ]
  },
  {
   "cell_type": "code",
   "execution_count": 14,
   "id": "6813d6b0",
   "metadata": {
    "_cell_guid": "3ec8d7f1-58a1-4fc5-b2c1-62fecff82640",
    "_uuid": "4b61f37d-dc16-41a1-8bb2-b32cf6065774",
    "execution": {
     "iopub.execute_input": "2024-05-28T10:17:30.072479Z",
     "iopub.status.busy": "2024-05-28T10:17:30.072038Z",
     "iopub.status.idle": "2024-05-28T10:17:30.089134Z",
     "shell.execute_reply": "2024-05-28T10:17:30.087828Z"
    },
    "jupyter": {
     "outputs_hidden": false
    },
    "papermill": {
     "duration": 0.032703,
     "end_time": "2024-05-28T10:17:30.091807",
     "exception": false,
     "start_time": "2024-05-28T10:17:30.059104",
     "status": "completed"
    },
    "tags": []
   },
   "outputs": [
    {
     "name": "stdout",
     "output_type": "stream",
     "text": [
      "Gender  Female  Male\n",
      "Age                 \n",
      "18        7940  3275\n",
      "19        7335  7535\n",
      "20        5175  3470\n",
      "21        5400  7185\n",
      "22        5425  8275\n",
      "23        2895  5325\n",
      "24        1750  3665\n",
      "25        3550  6350\n",
      "26       10375  3605\n",
      "27        4280  5105\n",
      "28        5400  3270\n",
      "29        4000  2570\n",
      "30        6285  3505\n",
      "31        2020  8200\n",
      "32        1850  3700\n",
      "33        2040  4200\n",
      "34       12050  4735\n",
      "35        6815  4475\n",
      "36        3080  6025\n",
      "37        5730  5920\n",
      "38        6020  5080\n",
      "39        3355  1240\n",
      "40        7630  1785\n",
      "41        1195  4455\n",
      "42        5290  3210\n",
      "43       10260  7710\n",
      "44        3590  3970\n",
      "45         585  5740\n",
      "46        5380  7710\n",
      "47        6315  6190\n",
      "48        5410  1830\n",
      "49        2650  2460\n",
      "50        4300  5545\n",
      "51        7270  8795\n",
      "52        4270  2770\n",
      "53        4890  4620\n",
      "54        5755  4750\n",
      "55        7070  2710\n",
      "56        6025  3415\n",
      "57        3630  5660\n",
      "58        3680  3715\n",
      "59        3785  5685\n",
      "60        7660  3930\n",
      "61        2840  3890\n",
      "62        3060  5060\n",
      "63        1205  8045\n",
      "64        6325  2800\n"
     ]
    }
   ],
   "source": [
    "# Group by Age and Gender, calculate Total Spending\n",
    "age_gender_grouped = df.groupby([\"Age\", \"Gender\"])[\"Total Amount\"].sum().unstack()\n",
    "\n",
    "print(age_gender_grouped.to_string())"
   ]
  },
  {
   "cell_type": "markdown",
   "id": "851ac137",
   "metadata": {
    "_cell_guid": "ee17590e-6901-4afe-97ae-bcfebba5214f",
    "_uuid": "b6945077-97b1-45ec-b6e7-2960bc627524",
    "papermill": {
     "duration": 0.01098,
     "end_time": "2024-05-28T10:17:30.114545",
     "exception": false,
     "start_time": "2024-05-28T10:17:30.103565",
     "status": "completed"
    },
    "tags": []
   },
   "source": [
    "# Insights From First Analysis \n",
    "\n",
    "The first analysis examines spending patterns across age and gender demographics. Notably, 18-year-old females demonstrate higher aggregate spending than their male counterparts, while the trend reverses for 22-year-olds. These patterns are visually represented in the accompanying barplot.\n"
   ]
  },
  {
   "cell_type": "code",
   "execution_count": 15,
   "id": "f9b4b82b",
   "metadata": {
    "_cell_guid": "125fbc68-36d1-40a0-8fd5-1af70cea4673",
    "_uuid": "ac4d09b6-9a71-4c1f-ac6b-27fe4673d68d",
    "execution": {
     "iopub.execute_input": "2024-05-28T10:17:30.162199Z",
     "iopub.status.busy": "2024-05-28T10:17:30.161826Z",
     "iopub.status.idle": "2024-05-28T10:17:31.192782Z",
     "shell.execute_reply": "2024-05-28T10:17:31.191409Z"
    },
    "jupyter": {
     "outputs_hidden": false
    },
    "papermill": {
     "duration": 1.046842,
     "end_time": "2024-05-28T10:17:31.195836",
     "exception": false,
     "start_time": "2024-05-28T10:17:30.148994",
     "status": "completed"
    },
    "tags": []
   },
   "outputs": [
    {
     "data": {
      "text/plain": [
       "<Figure size 2000x800 with 0 Axes>"
      ]
     },
     "metadata": {},
     "output_type": "display_data"
    },
    {
     "data": {
      "image/png": "[encoded data removed]",
      "text/plain": [
       "<Figure size 640x480 with 1 Axes>"
      ]
     },
     "metadata": {},
     "output_type": "display_data"
    }
   ],
   "source": [
    "# Create a comparative bar plot of spending by age and gender\n",
    "plt.figure(figsize=(20, 8))  # Set large figure size for clarity\n",
    "age_gender_grouped.plot(kind='bar', \n",
    "                       stacked=False,  # Side-by-side bars\n",
    "                       colormap='coolwarm')  # Gender-differentiated colors\n",
    "plt.xlabel(\"Customer Age\")\n",
    "plt.ylabel(\"Total Expenditure (USD)\")\n",
    "plt.title(\"Age and Gender Spending Patterns\")\n",
    "plt.legend(title=\"Gender\", loc='upper right')\n",
    "plt.tight_layout()  # Prevent label overlap\n",
    "plt.show()"
   ]
  },
  {
   "cell_type": "markdown",
   "id": "4220fdc1",
   "metadata": {
    "_cell_guid": "bd19bf0f-8d0f-446f-99c5-5bcdaed6852f",
    "_uuid": "cd981fea-8bfc-4969-94a8-726c0e09e3f1",
    "papermill": {
     "duration": 0.011563,
     "end_time": "2024-05-28T10:17:31.219475",
     "exception": false,
     "start_time": "2024-05-28T10:17:31.207912",
     "status": "completed"
    },
    "tags": []
   },
   "source": [
    "# Analysis 2: Top Product Category by Age & Gender: \n",
    "We now break spending down by product category for each demographic group."
   ]
  },
  {
   "cell_type": "code",
   "execution_count": 16,
   "id": "5373bd6d",
   "metadata": {
    "_cell_guid": "317f27c4-5dcc-4988-bdfd-5bdc25f31327",
    "_uuid": "33dd6111-2e83-4907-89c0-fa3e14c963fb",
    "execution": {
     "iopub.execute_input": "2024-05-28T10:17:31.246259Z",
     "iopub.status.busy": "2024-05-28T10:17:31.245867Z",
     "iopub.status.idle": "2024-05-28T10:17:31.276287Z",
     "shell.execute_reply": "2024-05-28T10:17:31.275349Z"
    },
    "jupyter": {
     "outputs_hidden": false
    },
    "papermill": {
     "duration": 0.048783,
     "end_time": "2024-05-28T10:17:31.280450",
     "exception": false,
     "start_time": "2024-05-28T10:17:31.231667",
     "status": "completed"
    },
    "tags": []
   },
   "outputs": [
    {
     "name": "stdout",
     "output_type": "stream",
     "text": [
      "Gender                Female    Male\n",
      "Age Product Category                \n",
      "18  Beauty            3195.0  1765.0\n",
      "    Clothing          2575.0  1510.0\n",
      "    Electronics       2170.0     NaN\n",
      "19  Beauty            2225.0  2140.0\n",
      "    Clothing          1200.0  1530.0\n",
      "    Electronics       3910.0  3865.0\n",
      "20  Beauty             365.0  2160.0\n",
      "    Clothing            80.0   360.0\n",
      "    Electronics       4730.0   950.0\n",
      "21  Beauty            3300.0  4700.0\n",
      "    Clothing          1200.0  1885.0\n",
      "    Electronics        900.0   600.0\n",
      "22  Beauty            1300.0  4230.0\n",
      "    Clothing          3275.0  2075.0\n",
      "    Electronics        850.0  1970.0\n",
      "23  Beauty             475.0   165.0\n",
      "    Clothing          1270.0  3050.0\n",
      "    Electronics       1150.0  2110.0\n",
      "24  Beauty            1575.0  1310.0\n",
      "    Clothing            25.0  2125.0\n",
      "    Electronics        150.0   230.0\n",
      "25  Beauty            1000.0  1375.0\n",
      "    Clothing          2200.0  2150.0\n",
      "    Electronics        350.0  2825.0\n",
      "26  Beauty            1715.0     NaN\n",
      "    Clothing          6960.0  1775.0\n",
      "    Electronics       1700.0  1830.0\n",
      "27  Beauty            1300.0  3455.0\n",
      "    Clothing          2655.0  1550.0\n",
      "    Electronics        325.0   100.0\n",
      "28  Beauty             300.0   160.0\n",
      "    Clothing          2380.0  1820.0\n",
      "    Electronics       2720.0  1290.0\n",
      "29  Beauty            2900.0   290.0\n",
      "    Clothing           400.0  2100.0\n",
      "    Electronics        700.0   180.0\n",
      "30  Beauty            3025.0  1285.0\n",
      "    Clothing           900.0  1620.0\n",
      "    Electronics       2360.0   600.0\n",
      "31  Beauty             200.0   120.0\n",
      "    Clothing          1500.0  3450.0\n",
      "    Electronics        320.0  4630.0\n",
      "32  Beauty             810.0   950.0\n",
      "    Clothing           990.0  2700.0\n",
      "    Electronics         50.0    50.0\n",
      "33  Beauty             150.0  2100.0\n",
      "    Clothing           690.0  2100.0\n",
      "    Electronics       1200.0     NaN\n",
      "34  Beauty            5350.0  2055.0\n",
      "    Clothing          1300.0  2400.0\n",
      "    Electronics       5400.0   280.0\n",
      "35  Beauty            3000.0  2075.0\n",
      "    Clothing          1545.0  1140.0\n",
      "    Electronics       2270.0  1260.0\n",
      "36  Beauty            1300.0  2025.0\n",
      "    Clothing          1310.0  1900.0\n",
      "    Electronics        470.0  2100.0\n",
      "37  Beauty               NaN  1620.0\n",
      "    Clothing          3270.0  2200.0\n",
      "    Electronics       2460.0  2100.0\n",
      "38  Beauty            2100.0  1200.0\n",
      "    Clothing           300.0   790.0\n",
      "    Electronics       3620.0  3090.0\n",
      "39  Beauty            3100.0   920.0\n",
      "    Clothing            75.0   160.0\n",
      "    Electronics        180.0   160.0\n",
      "40  Beauty            3700.0    50.0\n",
      "    Clothing          2295.0  1135.0\n",
      "    Electronics       1635.0   600.0\n",
      "41  Beauty               NaN  1550.0\n",
      "    Clothing          1045.0  1340.0\n",
      "    Electronics        150.0  1565.0\n",
      "42  Beauty            2380.0  1780.0\n",
      "    Clothing           730.0   275.0\n",
      "    Electronics       2180.0  1155.0\n",
      "43  Beauty            2425.0   120.0\n",
      "    Clothing          4175.0  2240.0\n",
      "    Electronics       3660.0  5350.0\n",
      "44  Beauty              75.0    30.0\n",
      "    Clothing          2890.0  2110.0\n",
      "    Electronics        625.0  1830.0\n",
      "45  Beauty             190.0  3840.0\n",
      "    Clothing           310.0  1000.0\n",
      "    Electronics         85.0   900.0\n",
      "46  Beauty            2410.0  6160.0\n",
      "    Clothing           550.0    50.0\n",
      "    Electronics       2420.0  1500.0\n",
      "47  Beauty            2820.0  3120.0\n",
      "    Clothing          2545.0  2250.0\n",
      "    Electronics        950.0   820.0\n",
      "48  Beauty            1860.0  1100.0\n",
      "    Clothing          3350.0   530.0\n",
      "    Electronics        200.0   200.0\n",
      "49  Beauty             275.0   760.0\n",
      "    Clothing          2200.0  1000.0\n",
      "    Electronics        175.0   700.0\n",
      "50  Beauty            1600.0   600.0\n",
      "    Clothing           300.0   650.0\n",
      "    Electronics       2400.0  4295.0\n",
      "51  Beauty            2925.0  1650.0\n",
      "    Clothing           375.0  3270.0\n",
      "    Electronics       3970.0  3875.0\n",
      "52  Beauty            1260.0   990.0\n",
      "    Clothing          2710.0   150.0\n",
      "    Electronics        300.0  1630.0\n",
      "53  Beauty               NaN  1400.0\n",
      "    Clothing          4050.0  1060.0\n",
      "    Electronics        840.0  2160.0\n",
      "54  Beauty            2710.0   280.0\n",
      "    Clothing           245.0  2950.0\n",
      "    Electronics       2800.0  1520.0\n",
      "55  Beauty            1800.0  1000.0\n",
      "    Clothing           620.0  1630.0\n",
      "    Electronics       4650.0    80.0\n",
      "56  Beauty            1635.0   500.0\n",
      "    Clothing          1790.0  2100.0\n",
      "    Electronics       2600.0   815.0\n",
      "57  Beauty             425.0  3200.0\n",
      "    Clothing          2895.0   750.0\n",
      "    Electronics        310.0  1710.0\n",
      "58  Beauty            2800.0   990.0\n",
      "    Clothing           760.0  1525.0\n",
      "    Electronics        120.0  1200.0\n",
      "59  Beauty            2700.0     NaN\n",
      "    Clothing           525.0  3585.0\n",
      "    Electronics        560.0  2100.0\n",
      "60  Beauty             490.0    80.0\n",
      "    Clothing          3250.0   750.0\n",
      "    Electronics       3920.0  3100.0\n",
      "61  Beauty               NaN  1340.0\n",
      "    Clothing          2240.0   250.0\n",
      "    Electronics        600.0  2300.0\n",
      "62  Beauty             920.0   305.0\n",
      "    Clothing           440.0   175.0\n",
      "    Electronics       1700.0  4580.0\n",
      "63  Beauty             105.0    50.0\n",
      "    Clothing           150.0  2320.0\n",
      "    Electronics        950.0  5675.0\n",
      "64  Beauty             640.0  1690.0\n",
      "    Clothing          4735.0   820.0\n",
      "    Electronics        950.0   290.0\n"
     ]
    }
   ],
   "source": [
    "# Group by Age and Gender, Product categories\n",
    "age_gender_category_grouped = df.groupby([\"Age\", \"Gender\", \"Product Category\"])[\"Total Amount\"].sum().unstack(level=1)\n",
    "\n",
    "print(age_gender_category_grouped.to_string())"
   ]
  },
  {
   "cell_type": "markdown",
   "id": "c748f570",
   "metadata": {
    "_cell_guid": "b1307485-544e-4781-9fd8-c9a3d16b71ba",
    "_uuid": "b1f336c5-4d3e-410d-bd68-f34dd9a93ba6",
    "papermill": {
     "duration": 0.012695,
     "end_time": "2024-05-28T10:17:31.306375",
     "exception": false,
     "start_time": "2024-05-28T10:17:31.293680",
     "status": "completed"
    },
    "tags": []
   },
   "source": [
    "# Key Takeaways from Second Analysis\n",
    "\n",
    "This analysis uncovers customer purchasing trends across Age, Gender, and Product Category:\n",
    "\n",
    "* Age-Based Trends: Spending preferences shift with age for specific product categories.\n",
    "\n",
    "* Gender Variations: Clear disparities exist in how different genders allocate spending across categories.\n",
    "\n",
    "Practical Application:\n",
    "\n",
    "For real-world retail datasets, these insights enable businesses to:\n",
    "\n",
    "✔ Sharpen marketing strategies by targeting high-propensity demographics.\n",
    "✔ Optimize product promotions for age-gender groups with the highest spend affinity."
   ]
  },
  {
   "cell_type": "markdown",
   "id": "0cc50391",
   "metadata": {
    "_cell_guid": "ad90c5f8-6dfc-47cb-86b1-7b22520ff0bf",
    "_uuid": "122e0b25-578c-48f8-84c8-c714bf47a4a9",
    "papermill": {
     "duration": 0.012413,
     "end_time": "2024-05-28T10:17:31.332332",
     "exception": false,
     "start_time": "2024-05-28T10:17:31.319919",
     "status": "completed"
    },
    "tags": []
   },
   "source": [
    "# Analysis 3: Monthly Trends \n",
    "\n",
    "The Total Daily and Monthly Spending are grouped by the ***Most bought Product Category***, ***Number of Customers*** and ***Gender***"
   ]
  },
  {
   "cell_type": "markdown",
   "id": "ae1711ed",
   "metadata": {
    "_cell_guid": "a9106245-4c9a-452b-a684-8afb752ebf89",
    "_uuid": "90c5249e-311e-414e-a9d0-1e2fd55603ac",
    "papermill": {
     "duration": 0.013648,
     "end_time": "2024-05-28T10:17:31.358867",
     "exception": false,
     "start_time": "2024-05-28T10:17:31.345219",
     "status": "completed"
    },
    "tags": []
   },
   "source": [
    "# Total Daily Spending\n",
    "\n",
    "**Uncomment** the code below to get the Total Daily Spending. The output consists of **345 different Dates**"
   ]
  },
  {
   "cell_type": "code",
   "execution_count": 17,
   "id": "40f3d341",
   "metadata": {
    "_cell_guid": "7db3e882-3275-4192-ba9a-33e550f3c56e",
    "_uuid": "c06ee0e9-1f30-4179-813b-9fde262b2d02",
    "execution": {
     "iopub.execute_input": "2024-05-28T10:17:31.386323Z",
     "iopub.status.busy": "2024-05-28T10:17:31.385952Z",
     "iopub.status.idle": "2024-05-28T10:17:31.392499Z",
     "shell.execute_reply": "2024-05-28T10:17:31.391135Z"
    },
    "jupyter": {
     "outputs_hidden": false
    },
    "papermill": {
     "duration": 0.023002,
     "end_time": "2024-05-28T10:17:31.394937",
     "exception": false,
     "start_time": "2024-05-28T10:17:31.371935",
     "status": "completed"
    },
    "tags": []
   },
   "outputs": [],
   "source": [
    "# # Group by day\n",
    "# daily_transactions = df.groupby('Date')\n",
    "\n",
    "# # Analyze data for each day\n",
    "# for day, group in daily_transactions:\n",
    "#   # Most bought Product Category \n",
    "#   most_bought_product_category = group['Product Category'].mode().iloc[0]\n",
    "\n",
    "#   # Number of Customers (unique customer IDs)\n",
    "#   num_customers = group['Customer ID'].nunique()\n",
    "    \n",
    "#   # Gender of Customers\n",
    "#   gender_counts = group['Gender'].value_counts()\n",
    "\n",
    "#   # Print results for the day\n",
    "#   print(f\"Date: {day}\")\n",
    "#   print(f\"  Most bought Product Category: {most_bought_product_category}\")\n",
    "#   print(f\"  Number of Customers: {num_customers}\")\n",
    "  \n",
    "#   # Access and print Gender counts\n",
    "#   if 'Male' in gender_counts:\n",
    "#     print(f\"    Male Customers: {gender_counts['Male']}\")\n",
    "#   if 'Female' in gender_counts:\n",
    "#     print(f\"    Female Customers: {gender_counts['Female']}\")\n",
    "    \n",
    "#   # Total spending per Day\n",
    "#   total_spending = group['Total Amount'].sum()\n",
    "    \n",
    "#   print(f\"  Total spending: {total_spending:.2f}\")\n",
    "#   print()  # Add a blank line between days"
   ]
  },
  {
   "cell_type": "markdown",
   "id": "58a9ccc9",
   "metadata": {
    "_cell_guid": "0e3bd50f-98eb-472f-aad4-338f1fc79c97",
    "_uuid": "fefdd30e-25b8-4e33-8848-b04ebddbf2c4",
    "papermill": {
     "duration": 0.012687,
     "end_time": "2024-05-28T10:17:31.420709",
     "exception": false,
     "start_time": "2024-05-28T10:17:31.408022",
     "status": "completed"
    },
    "tags": []
   },
   "source": [
    "# Total Monthly Spending"
   ]
  },
  {
   "cell_type": "code",
   "execution_count": 18,
   "id": "33913de7",
   "metadata": {
    "_cell_guid": "eb2538fa-2476-4709-aab5-85329cc92b0e",
    "_uuid": "22675181-fc08-438c-932d-104a62f90955",
    "execution": {
     "iopub.execute_input": "2024-05-28T10:17:31.448066Z",
     "iopub.status.busy": "2024-05-28T10:17:31.447314Z",
     "iopub.status.idle": "2024-05-28T10:17:31.480721Z",
     "shell.execute_reply": "2024-05-28T10:17:31.479402Z"
    },
    "jupyter": {
     "outputs_hidden": false
    },
    "papermill": {
     "duration": 0.050233,
     "end_time": "2024-05-28T10:17:31.483553",
     "exception": false,
     "start_time": "2024-05-28T10:17:31.433320",
     "status": "completed"
    },
    "tags": []
   },
   "outputs": [
    {
     "name": "stdout",
     "output_type": "stream",
     "text": [
      "\n",
      "Month 1 Analysis:\n",
      "• Most Popular: Beauty\n",
      "• Customers: 78\n",
      "• Gender Breakdown:\n",
      "  - Female: 40\n",
      "  - Male: 38\n",
      "• Revenue: $36,980.00\n",
      "• Avg Spend: $474.10\n",
      "\n",
      "Month 2 Analysis:\n",
      "• Most Popular: Clothing\n",
      "• Customers: 85\n",
      "• Gender Breakdown:\n",
      "  - Male: 49\n",
      "  - Female: 36\n",
      "• Revenue: $44,060.00\n",
      "• Avg Spend: $518.35\n",
      "\n",
      "Month 3 Analysis:\n",
      "• Most Popular: Clothing\n",
      "• Customers: 73\n",
      "• Gender Breakdown:\n",
      "  - Female: 41\n",
      "  - Male: 32\n",
      "• Revenue: $28,990.00\n",
      "• Avg Spend: $397.12\n",
      "\n",
      "Month 4 Analysis:\n",
      "• Most Popular: Clothing\n",
      "• Customers: 86\n",
      "• Gender Breakdown:\n",
      "  - Female: 50\n",
      "  - Male: 36\n",
      "• Revenue: $33,870.00\n",
      "• Avg Spend: $393.84\n",
      "\n",
      "Month 5 Analysis:\n",
      "• Most Popular: Electronics\n",
      "• Customers: 105\n",
      "• Gender Breakdown:\n",
      "  - Male: 60\n",
      "  - Female: 45\n",
      "• Revenue: $53,150.00\n",
      "• Avg Spend: $506.19\n",
      "\n",
      "Month 6 Analysis:\n",
      "• Most Popular: Clothing\n",
      "• Customers: 77\n",
      "• Gender Breakdown:\n",
      "  - Female: 39\n",
      "  - Male: 38\n",
      "• Revenue: $36,715.00\n",
      "• Avg Spend: $476.82\n",
      "\n",
      "Month 7 Analysis:\n",
      "• Most Popular: Beauty\n",
      "• Customers: 72\n",
      "• Gender Breakdown:\n",
      "  - Female: 37\n",
      "  - Male: 35\n",
      "• Revenue: $35,465.00\n",
      "• Avg Spend: $492.57\n",
      "\n",
      "Month 8 Analysis:\n",
      "• Most Popular: Electronics\n",
      "• Customers: 94\n",
      "• Gender Breakdown:\n",
      "  - Female: 50\n",
      "  - Male: 44\n",
      "• Revenue: $36,960.00\n",
      "• Avg Spend: $393.19\n",
      "\n",
      "Month 9 Analysis:\n",
      "• Most Popular: Electronics\n",
      "• Customers: 65\n",
      "• Gender Breakdown:\n",
      "  - Female: 35\n",
      "  - Male: 30\n",
      "• Revenue: $23,620.00\n",
      "• Avg Spend: $363.38\n",
      "\n",
      "Month 10 Analysis:\n",
      "• Most Popular: Electronics\n",
      "• Customers: 96\n",
      "• Gender Breakdown:\n",
      "  - Male: 53\n",
      "  - Female: 43\n",
      "• Revenue: $46,580.00\n",
      "• Avg Spend: $485.21\n",
      "\n",
      "Month 11 Analysis:\n",
      "• Most Popular: Electronics\n",
      "• Customers: 78\n",
      "• Gender Breakdown:\n",
      "  - Male: 39\n",
      "  - Female: 39\n",
      "• Revenue: $34,920.00\n",
      "• Avg Spend: $447.69\n",
      "\n",
      "Month 12 Analysis:\n",
      "• Most Popular: Electronics\n",
      "• Customers: 91\n",
      "• Gender Breakdown:\n",
      "  - Female: 55\n",
      "  - Male: 36\n",
      "• Revenue: $44,690.00\n",
      "• Avg Spend: $491.10\n"
     ]
    },
    {
     "data": {
      "text/html": [
       "<div>\n",
       "<style scoped>\n",
       "    .dataframe tbody tr th:only-of-type {\n",
       "        vertical-align: middle;\n",
       "    }\n",
       "\n",
       "    .dataframe tbody tr th {\n",
       "        vertical-align: top;\n",
       "    }\n",
       "\n",
       "    .dataframe thead th {\n",
       "        text-align: right;\n",
       "    }\n",
       "</style>\n",
       "<table border=\"1\" class=\"dataframe\">\n",
       "  <thead>\n",
       "    <tr style=\"text-align: right;\">\n",
       "      <th></th>\n",
       "    </tr>\n",
       "  </thead>\n",
       "  <tbody>\n",
       "  </tbody>\n",
       "</table>\n",
       "</div>"
      ],
      "text/plain": [
       "Empty DataFrame\n",
       "Columns: []\n",
       "Index: []"
      ]
     },
     "execution_count": 18,
     "metadata": {},
     "output_type": "execute_result"
    }
   ],
   "source": [
    "import pandas as pd\n",
    "\n",
    "# Convert 'Date' column to datetime if it's not already\n",
    "df['Date'] = pd.to_datetime(df['Date'])\n",
    "\n",
    "# Group by month (now that we have proper datetime)\n",
    "monthly_transactions = df.groupby(df['Date'].dt.month)\n",
    "\n",
    "def analyze_month(group):\n",
    "    \"\"\"Enhanced monthly transaction analysis with error handling\"\"\"\n",
    "    try:\n",
    "        analysis = {\n",
    "            'Month': group.name,\n",
    "            'Top Category': group['Product Category'].mode().iloc[0],\n",
    "            'Unique Customers': group['Customer ID'].nunique(),\n",
    "            'Gender Counts': group['Gender'].value_counts().to_dict(),\n",
    "            'Total Revenue': group['Total Amount'].sum(),\n",
    "            'Avg Transaction': group['Total Amount'].mean()\n",
    "        }\n",
    "        \n",
    "        # Format output\n",
    "        print(f\"\\nMonth {analysis['Month']} Analysis:\")\n",
    "        print(f\"• Most Popular: {analysis['Top Category']}\")\n",
    "        print(f\"• Customers: {analysis['Unique Customers']}\")\n",
    "        print(\"• Gender Breakdown:\")\n",
    "        for gender, count in analysis['Gender Counts'].items():\n",
    "            print(f\"  - {gender}: {count}\")\n",
    "        print(f\"• Revenue: ${analysis['Total Revenue']:,.2f}\")\n",
    "        print(f\"• Avg Spend: ${analysis['Avg Transaction']:,.2f}\")\n",
    "        \n",
    "    except Exception as e:\n",
    "        print(f\"Error analyzing month {group.name}: {str(e)}\")\n",
    "\n",
    "# Apply analysis\n",
    "monthly_transactions.apply(analyze_month)"
   ]
  },
  {
   "cell_type": "markdown",
   "id": "be1346b9",
   "metadata": {
    "_cell_guid": "061990ae-a951-45f1-873e-eb780d485781",
    "_uuid": "d7daeedf-af63-4ed1-ad6c-f8a4eade201a",
    "papermill": {
     "duration": 0.013033,
     "end_time": "2024-05-28T10:17:31.509924",
     "exception": false,
     "start_time": "2024-05-28T10:17:31.496891",
     "status": "completed"
    },
    "tags": []
   },
   "source": [
    "# Insights from Analysis 3 \n",
    "\n",
    "Analysis 3 examines Customer Spending Trends throughout the Year, segmented by Month, with focus on:\n",
    "\n",
    "* Most Popular Product Category: Dominant category by customer purchases each month\n",
    "* Number of Customers: Unique customer counts revealing shopping frequency patterns\n",
    "* Gender Distribution: Male vs Female purchasing participation\n",
    "* Total Spending: Aggregate revenue generation across all categories\n",
    "\n",
    "The Findings:\n",
    "\n",
    "1. Spending Fluctuations\n",
    "\n",
    "* Peak Revenue: May (53,150) outperformed other months by 42 percent  vs average.\n",
    "* owest Revenue: September (23,620) suggests seasonal slowdown\n",
    "* Q4Surge: Consistent 35K+ revenue from October-December\n",
    "\n",
    "2. Category Preferences\n",
    "\n",
    "* Electronics Dominance: 8-month streak (May, August-December) as top  category\n",
    "* Beauty Peaks: January (post-holiday recovery) and July (summer prep)\n",
    "* Clothing Demand: February-April (spring season influence)\n",
    "\n",
    "3. Customer Traffic\n",
    "\n",
    "* Highest Footfall: May (105 customers) correlated with highest revenue\n",
    "* Lowest Engagement: September (65 customers) needs intervention\n",
    "* Stable Base: 70-90 customers/month typical range\n",
    "\n",
    "4. Gender Dynamics\n",
    "\n",
    "* Female Majority: Led purchases in 7/12 months (notable in April: 50F vs 36M)\n",
    "* Male Surges: Outpaced females in Electronics-heavy months (May, October)\n",
    "* Balanced Months: November showed perfect gender parity (39M vs 39F)\n",
    "\n",
    "**Actionable Insights**\n",
    "\n",
    "Once again, in a Real-life dataset the findings can help with:\n",
    "\n",
    "* Promotions and Marketing: Understanding popular categories by month can help tailor promotions and marketing campaigns to target the right products at the right time.\n",
    "* Inventory Management: Analyzing monthly sales trends can inform inventory management strategies, ensuring you have adequate stock of popular categories during peak demand months.\n",
    "* Customer Acquisition: Months with lower customer traffic might be good times to implement customer acquisition campaigns to attract new buyers."
   ]
  },
  {
   "cell_type": "markdown",
   "id": "77471641",
   "metadata": {
    "_cell_guid": "6d27fc38-951c-4e81-baea-983191f65b88",
    "_uuid": "aeebedfc-9787-4966-9322-cb9390928277",
    "papermill": {
     "duration": 0.012818,
     "end_time": "2024-05-28T10:17:31.536132",
     "exception": false,
     "start_time": "2024-05-28T10:17:31.523314",
     "status": "completed"
    },
    "tags": []
   },
   "source": [
    "# Total Monthly Spending Trend by Gender"
   ]
  },
  {
   "cell_type": "code",
   "execution_count": 19,
   "id": "2c7c21c3",
   "metadata": {
    "_cell_guid": "dc980297-c44a-4b3f-89a7-1e7bd2091354",
    "_uuid": "a4849ffe-be45-4dbf-af15-01c09cbbaf54",
    "execution": {
     "iopub.execute_input": "2024-05-28T10:17:31.564695Z",
     "iopub.status.busy": "2024-05-28T10:17:31.563620Z",
     "iopub.status.idle": "2024-05-28T10:17:32.057552Z",
     "shell.execute_reply": "2024-05-28T10:17:32.056571Z"
    },
    "jupyter": {
     "outputs_hidden": false
    },
    "papermill": {
     "duration": 0.511907,
     "end_time": "2024-05-28T10:17:32.060791",
     "exception": false,
     "start_time": "2024-05-28T10:17:31.548884",
     "status": "completed"
    },
    "scrolled": true,
    "tags": []
   },
   "outputs": [
    {
     "name": "stdout",
     "output_type": "stream",
     "text": [
      "Month: 1\n",
      "  Male Spending: 12255.00\n",
      "  Female Spending: 24725.00\n",
      "\n",
      "Month: 2\n",
      "  Male Spending: 29665.00\n",
      "  Female Spending: 14395.00\n",
      "\n",
      "Month: 3\n",
      "  Male Spending: 15670.00\n",
      "  Female Spending: 13320.00\n",
      "\n",
      "Month: 4\n",
      "  Male Spending: 16570.00\n",
      "  Female Spending: 17300.00\n",
      "\n",
      "Month: 5\n",
      "  Male Spending: 29220.00\n",
      "  Female Spending: 23930.00\n",
      "\n",
      "Month: 6\n",
      "  Male Spending: 19840.00\n",
      "  Female Spending: 16875.00\n",
      "\n",
      "Month: 7\n",
      "  Male Spending: 18580.00\n",
      "  Female Spending: 16885.00\n",
      "\n",
      "Month: 8\n",
      "  Male Spending: 14880.00\n",
      "  Female Spending: 22080.00\n",
      "\n",
      "Month: 9\n",
      "  Male Spending: 7085.00\n",
      "  Female Spending: 16535.00\n",
      "\n",
      "Month: 10\n",
      "  Male Spending: 19980.00\n",
      "  Female Spending: 26600.00\n",
      "\n",
      "Month: 11\n",
      "  Male Spending: 20030.00\n",
      "  Female Spending: 14890.00\n",
      "\n",
      "Month: 12\n",
      "  Male Spending: 19385.00\n",
      "  Female Spending: 25305.00\n",
      "\n"
     ]
    },
    {
     "data": {
      "image/png": "[encoded data removed]",
      "text/plain": [
       "<Figure size 1000x600 with 1 Axes>"
      ]
     },
     "metadata": {},
     "output_type": "display_data"
    }
   ],
   "source": [
    "# Group by month (extract month from 'Date' column)\n",
    "monthly_transactions = df.groupby(df['Date'].dt.month)\n",
    "\n",
    "\n",
    "def calculate_gender_spending(group):\n",
    "  \"\"\"Calculates total spending for male and female customers within a group.\"\"\"\n",
    "  male_spending = group[group['Gender'] == 'Male']['Total Amount'].sum()\n",
    "  female_spending = group[group['Gender'] == 'Female']['Total Amount'].sum()\n",
    "  return pd.Series({'Male': male_spending, 'Female': female_spending})\n",
    "\n",
    "\n",
    "# Apply the function to each group and store the result\n",
    "gendered_spending = monthly_transactions.apply(calculate_gender_spending)\n",
    "\n",
    "# Print results \n",
    "for month, gender_data in gendered_spending.iterrows():\n",
    "  print(f\"Month: {month}\")\n",
    "  print(f\"  Male Spending: {gender_data['Male']:.2f}\")\n",
    "  print(f\"  Female Spending: {gender_data['Female']:.2f}\")\n",
    "  print()  # Add a blank line between months\n",
    "\n",
    "# Extract month labels and sales data\n",
    "months = gendered_spending.index.to_list()\n",
    "male_spending = gendered_spending['Male'].to_list()\n",
    "female_spending = gendered_spending['Female'].to_list()\n",
    "\n",
    "# Create the Lineplot\n",
    "plt.figure(figsize=(10, 6))  \n",
    "plt.plot(months, male_spending, marker='o', label='Male Spending')\n",
    "plt.plot(months, female_spending, marker='s', label='Female Spending')\n",
    "plt.xlabel('Month')\n",
    "plt.ylabel('Total Spending')\n",
    "plt.legend(title = 'Gender')\n",
    "plt.title('Total Spending Trend by Gender (Monthly)')\n",
    "plt.tight_layout()\n",
    "plt.show()"
   ]
  },
  {
   "cell_type": "markdown",
   "id": "6b45f2e5",
   "metadata": {
    "papermill": {
     "duration": 0.015166,
     "end_time": "2024-05-28T10:17:32.092070",
     "exception": false,
     "start_time": "2024-05-28T10:17:32.076904",
     "status": "completed"
    },
    "tags": []
   },
   "source": [
    "Visualizing Gender-Based Spending Trend:\n",
    "\n",
    "The table and line plot enable direct comparison of monthly spending patterns between genders over the year.\n",
    "\n",
    "Key fluctuations emerge:\n",
    "\n",
    "* Peak Male spending occurs in May ($29,220)\n",
    "\n",
    "* Peak Female spending arrives in October ($26,600)\n",
    "\n",
    "Both lines reveal distinct seasonal purchasing behaviors, with neither gender maintaining consistent monthly expenditure."
   ]
  },
  {
   "cell_type": "markdown",
   "id": "34a81601",
   "metadata": {},
   "source": [
    "# Conclusion \n",
    "This retail sales analysis uncovered three fundamental consumer behavior patterns:\n",
    "\n",
    "1. Gender-Driven Purchasing\n",
    "\n",
    "* Spending gaps vary by product category (e.g., males dominate Electronics, females lead Beauty)\n",
    "* Notable exceptions in balanced categories like Clothing\n",
    "\n",
    "2. Age-Based Preferences\n",
    "\n",
    "* Younger consumers (18-25) prefer Beauty/Clothing\n",
    "* Older demographics (30+) focus on Electronics\n",
    "* Critical inflection points at ages 22 and 30\n",
    "\n",
    "3. Predictable Seasonality\n",
    "\n",
    "* May and Q4 (Oct-Dec) are revenue peaks (+42% vs average)\n",
    "* September’s slump (−23%) demands intervention\n",
    "* Monthly trends enable:\n",
    "\n",
    "  Just-in-time inventory planning\n",
    "  Targeted promotional calendars\n",
    "\n",
    "Strategic Value: These insights create a framework for:\n",
    "* Dynamic pricing models\n",
    "* Hyper-targeted marketing campaigns\n",
    "* Data-driven inventory allocation"
   ]
  }
 ],
 "metadata": {
  "kaggle": {
   "accelerator": "none",
   "dataSources": [
    {
     "datasetId": 3655505,
     "sourceId": 6347913,
     "sourceType": "datasetVersion"
    }
   ],
   "dockerImageVersionId": 30698,
   "isGpuEnabled": false,
   "isInternetEnabled": true,
   "language": "python",
   "sourceType": "notebook"
  },
  "kernelspec": {
   "display_name": "Python 3 (ipykernel)",
   "language": "python",
   "name": "python3"
  },
  "language_info": {
   "codemirror_mode": {
    "name": "ipython",
    "version": 3
   },
   "file_extension": ".py",
   "mimetype": "text/x-python",
   "name": "python",
   "nbconvert_exporter": "python",
   "pygments_lexer": "ipython3",
   "version": "3.11.5"
  },
  "papermill": {
   "default_parameters": {},
   "duration": 9.155785,
   "end_time": "2024-05-28T10:17:32.755820",
   "environment_variables": {},
   "exception": null,
   "input_path": "__notebook__.ipynb",
   "output_path": "__notebook__.ipynb",
   "parameters": {},
   "start_time": "2024-05-28T10:17:23.600035",
   "version": "2.5.0"
  }
 },
 "nbformat": 4,
 "nbformat_minor": 5
}
